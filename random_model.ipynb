{
 "cells": [
  {
   "cell_type": "code",
   "execution_count": 1,
   "metadata": {},
   "outputs": [],
   "source": [
    "from dd_class import Elevage\n",
    "from dd_class import Dragodinde\n",
    "import random\n",
    "import time \n",
    "\n",
    "class Random_crossing :\n",
    "    def __init__(self) :\n",
    "        self.elevage = self.create_elevage()\n",
    "\n",
    "    def __str__(self) :\n",
    "        return (f\"{self.elevage}\")\n",
    "    \n",
    "    def get_length_elevage(self) :\n",
    "        return len(self.elevage.get_dragodindes())\n",
    "    \n",
    "    def get_better_generation(self) :\n",
    "        better_generation = 1\n",
    "        for dragodinde in self.elevage.get_dragodindes() :\n",
    "            generation = dragodinde.get_generation()\n",
    "            if generation > better_generation :\n",
    "                better_generation = generation\n",
    "        \n",
    "        return better_generation\n",
    "\n",
    "    def get_dd_better_generation(self, dragodindes) :\n",
    "        better_generation = 1\n",
    "        index_best_dd = 0\n",
    "        for idx, dragodinde in enumerate(dragodindes) :\n",
    "            generation  = dragodinde.get_generation()\n",
    "            if generation > better_generation :\n",
    "                better_generation = generation\n",
    "                index_best_dd = idx\n",
    "        return dragodindes[index_best_dd]\n",
    "\n",
    "    def create_elevage(self):\n",
    "\n",
    "        dragodindes_data = [\n",
    "            (1, \"M\", \"Rousse\", 1),\n",
    "            (2, \"F\", \"Rousse\", 1),\n",
    "            (3, \"M\", \"Amande\", 1),\n",
    "            (4, \"F\", \"Amande\", 1),\n",
    "            (5, \"M\", \"Dorée\", 1),\n",
    "            (6, \"F\", \"Dorée\", 1)\n",
    "        ]\n",
    "\n",
    "        list_dd = []\n",
    "        for id, gender, color, generation in dragodindes_data:\n",
    "            dragodinde = Dragodinde(id, gender, color, generation)\n",
    "            list_dd.append(dragodinde)\n",
    "\n",
    "        return Elevage(list_dd)\n",
    "    \n",
    "    def random_crosing_better_gen(self):\n",
    "        males = [dd for dd in self.elevage.get_dragodindes() if dd.get_sex() == \"M\"]\n",
    "        females = [dd for dd in self.elevage.get_dragodindes() if dd.get_sex() == \"F\"]\n",
    "\n",
    "        if not males or not females:\n",
    "            raise ValueError(\"No suitable pairs for crossing.\")\n",
    "\n",
    "        # Take the best generation\n",
    "        male = self.get_dd_better_generation(males)\n",
    "        female = self.get_dd_better_generation(females)\n",
    "\n",
    "        if male.get_generation() != female.get_generation():\n",
    "            male = random.choice(males)\n",
    "            female = random.choice(females)\n",
    "        \n",
    "        while male.get_couleur() == female.get_couleur() :\n",
    "            male = random.choice(males)\n",
    "            female = random.choice(females)\n",
    "\n",
    "        # Assuming accouplement_naissance is a method that performs crossing and returns probabilities\n",
    "        nouvelle_dd, _ = self.elevage.accouplement_naissance(male, female)\n",
    "\n",
    "        return nouvelle_dd.get_generation()\n",
    "\n",
    "    def random_crosing(self):\n",
    "        males = [dd for dd in self.elevage.get_dragodindes() if dd.get_sex() == \"M\"]\n",
    "        females = [dd for dd in self.elevage.get_dragodindes() if dd.get_sex() == \"F\"]\n",
    "\n",
    "        if not males or not females:\n",
    "            raise ValueError(\"No suitable pairs for crossing.\")\n",
    "\n",
    "        male = random.choice(males)\n",
    "        female = random.choice(females)\n",
    "\n",
    "        # Assuming accouplement_naissance is a method that performs crossing and returns probabilities\n",
    "        nouvelle_dd, _ = self.elevage.accouplement_naissance(male, female)\n",
    "\n",
    "        return nouvelle_dd.get_generation()"
   ]
  },
  {
   "cell_type": "code",
   "execution_count": 12,
   "metadata": {},
   "outputs": [
    {
     "name": "stdout",
     "output_type": "stream",
     "text": [
      "-------------- Random crossing --------------\n",
      "Length of the evelage : 1006\n",
      "Better generation so far : 3\n",
      "Time taken to compute 1000 crossing : 2.592970 seconds\n"
     ]
    }
   ],
   "source": [
    "    \n",
    "start_time = time.time()\n",
    "elevage = Random_crossing()\n",
    "list_gen_random = [1]\n",
    "better_generation = 1\n",
    "crosing_number = 1000\n",
    "for i in range(crosing_number) :\n",
    "    generation = elevage.random_crosing()\n",
    "    if generation > better_generation :\n",
    "        better_generation = generation\n",
    "    list_gen_random.append(better_generation)\n",
    "\n",
    "end_time = time.time()\n",
    "print(f\"-------------- Random crossing --------------\")\n",
    "print(f\"Length of the evelage : {elevage.get_length_elevage()}\")\n",
    "print(f\"Better generation so far : {better_generation}\")\n",
    "print(f\"Time taken to compute {crosing_number} crossing : {end_time - start_time:.6f} seconds\")\n"
   ]
  },
  {
   "cell_type": "code",
   "execution_count": 13,
   "metadata": {},
   "outputs": [
    {
     "name": "stdout",
     "output_type": "stream",
     "text": [
      "----------- Random crossing upgrade -----------\n",
      "Length of the evelage : 1004\n",
      "Better generation so far : 4\n",
      "Time taken to compute 1000 crossing : 4.175497 seconds\n"
     ]
    }
   ],
   "source": [
    "\n",
    "start_time = time.time()\n",
    "elevage = Random_crossing()\n",
    "list_gen_upgrade_random = [1]\n",
    "better_generation = 1\n",
    "crosing_number = 1000\n",
    "for i in range(crosing_number) :\n",
    "    generation = elevage.random_crosing_better_gen()\n",
    "    if generation > better_generation :\n",
    "        better_generation = generation\n",
    "    list_gen_upgrade_random.append(better_generation)\n",
    "\n",
    "\n",
    "end_time = time.time()\n",
    "print(f\"----------- Random crossing upgrade -----------\")\n",
    "print(f\"Length of the evelage : {elevage.get_length_elevage()}\")\n",
    "print(f\"Better generation so far : {better_generation}\")\n",
    "print(f\"Time taken to compute {crosing_number} crossing : {end_time - start_time:.6f} seconds\")\n"
   ]
  },
  {
   "cell_type": "code",
   "execution_count": 14,
   "metadata": {},
   "outputs": [
    {
     "data": {
      "image/png": "[encoded data removed]",
      "text/plain": [
       "<Figure size 1000x600 with 1 Axes>"
      ]
     },
     "metadata": {},
     "output_type": "display_data"
    }
   ],
   "source": [
    "import matplotlib.pyplot as plt\n",
    "\n",
    "# x values representing the number of crossings (index of the list)\n",
    "x_values = list(range(len(list_gen_upgrade_random)))\n",
    "\n",
    "# Create the plot\n",
    "plt.figure(figsize=(10, 6))\n",
    "\n",
    "# Plotting the two lists\n",
    "plt.plot(x_values, list_gen_random, label='list_gen_random', color='blue')\n",
    "plt.plot(x_values, list_gen_upgrade_random, label='list_gen_upgrade_random', color='orange')\n",
    "\n",
    "# Set y-axis limits between 0 and 11\n",
    "plt.ylim(0, 11)\n",
    "\n",
    "# Adding labels and title\n",
    "plt.xlabel('Number of Crossing')\n",
    "plt.ylabel('Generation Number')\n",
    "plt.title('Plot of Generation Numbers per Crossing')\n",
    "plt.legend()\n",
    "\n",
    "# Show the plot\n",
    "plt.grid(False)\n",
    "plt.show()"
   ]
  }
 ],
 "metadata": {
  "kernelspec": {
   "display_name": "Python 3",
   "language": "python",
   "name": "python3"
  },
  "language_info": {
   "codemirror_mode": {
    "name": "ipython",
    "version": 3
   },
   "file_extension": ".py",
   "mimetype": "text/x-python",
   "name": "python",
   "nbconvert_exporter": "python",
   "pygments_lexer": "ipython3",
   "version": "3.7.3"
  }
 },
 "nbformat": 4,
 "nbformat_minor": 2
}
