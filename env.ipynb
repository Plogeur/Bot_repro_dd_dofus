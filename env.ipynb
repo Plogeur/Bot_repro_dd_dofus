{
 "cells": [
  {
   "cell_type": "code",
   "execution_count": null,
   "metadata": {},
   "outputs": [],
   "source": [
    "import gym\n",
    "import numpy as np\n",
    "from gym import spaces\n",
    "from dd_class import Dragodinde\n",
    "from dd_class import Elevage"
   ]
  },
  {
   "cell_type": "code",
   "execution_count": null,
   "metadata": {},
   "outputs": [],
   "source": [
    "class ElevageEnv(gym.Env):\n",
    "    def __init__(self, elevage):\n",
    "        super(ElevageEnv, self).__init__()\n",
    "        self.elevage = elevage\n",
    "\n",
    "        # Define the action and observation space\n",
    "        self.action_space = spaces.Discrete(len(elevage.dragodindes) ** 2)\n",
    "        self.observation_space = spaces.Box(\n",
    "            low=0, high=10, shape=(len(elevage.dragodindes), 4), dtype=np.float32)\n",
    "\n",
    "        self.current_step = 0\n",
    "        self.max_steps = 1000\n",
    "\n",
    "    def reset(self):\n",
    "        self.current_step = 0\n",
    "        self.elevage = self.create_elevage()\n",
    "        return self._get_observation()\n",
    "\n",
    "    def create_elevage(self):\n",
    "        dragodindes_data = [\n",
    "            (1, \"M\", \"Rousse\", 1),\n",
    "            (2, \"F\", \"Rousse\", 1),\n",
    "            (3, \"M\", \"Amande\", 1),\n",
    "            (4, \"F\", \"Amande\", 1),\n",
    "            (5, \"M\", \"Dorée\", 1),\n",
    "            (6, \"F\", \"Dorée\", 1)\n",
    "        ]\n",
    "\n",
    "        list_dd = []\n",
    "        for id, gender, color, generation in dragodindes_data:\n",
    "            dragodinde = Dragodinde(id, gender, color, generation)\n",
    "            list_dd.append(dragodinde)\n",
    "\n",
    "        return Elevage(list_dd)"
   ]
  }
 ],
 "metadata": {
  "language_info": {
   "name": "python"
  }
 },
 "nbformat": 4,
 "nbformat_minor": 2
}
